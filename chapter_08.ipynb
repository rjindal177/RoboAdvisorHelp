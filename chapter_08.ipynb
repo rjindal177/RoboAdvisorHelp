{
 "cells": [
  {
   "cell_type": "markdown",
   "id": "aef99877",
   "metadata": {},
   "source": [
    "# Chapter 8 - Asset Location\n",
    "\n",
    "## Listing 8.1"
   ]
  },
  {
   "cell_type": "code",
   "execution_count": 7,
   "id": "fcc43c50",
   "metadata": {},
   "outputs": [],
   "source": [
    "class Asset():\n",
    "    def __init__(self, avg_ret=0.08, payout_rate=0.0, tax_rate_payout=0.2, #A\n",
    "                 tax_rate_cap_gains=0.2, tax_rate_ord_inc=0.35,\n",
    "                 turnover_rate=0, starting_value=500000, cost_basis=500000):\n",
    "        self.avg_ret = avg_ret\n",
    "        self.payout_rate = payout_rate\n",
    "        self.tax_rate_payout = tax_rate_payout\n",
    "        self.tax_rate_cap_gains = tax_rate_cap_gains\n",
    "        self.tax_rate_ord_inc = tax_rate_ord_inc\n",
    "        self.turnover_rate = turnover_rate\n",
    "        self.starting_value = starting_value\n",
    "        self.cost_basis = cost_basis\n",
    "    def IRA_value(self, horizon=30):\n",
    "        pretax_value = self.starting_value * (1+self.avg_ret)**horizon\n",
    "        aftertax_value = pretax_value * (1-self.tax_rate_ord_inc)\n",
    "        return aftertax_value\n",
    "    def Taxable_value(self, horizon=30):\n",
    "        curr_cost_basis = self.cost_basis\n",
    "        curr_value = self.starting_value\n",
    "        for year in range(1, horizon+1):\n",
    "            taxes_div = self.payout_rate * curr_value * self.tax_rate_payout\n",
    "            taxes_cap_gain = (self.turnover_rate * curr_value\n",
    "                              * self.tax_rate_cap_gains)\n",
    "            curr_cost_basis += ((self.payout_rate * curr_value) #B\n",
    "                               + (self.turnover_rate * curr_value)\n",
    "                               - (taxes_div + taxes_cap_gain))\n",
    "            curr_value = (curr_value * (1+self.avg_ret) \n",
    "                          - (taxes_div + taxes_cap_gain))\n",
    "        aftertax_value = (curr_value \n",
    "                          - (curr_value - curr_cost_basis) \n",
    "                          * self.tax_rate_cap_gains)\n",
    "        return aftertax_value\n",
    "    def Taxable_minus_IRA(self, horizon=30):\n",
    "        difference = (self.Taxable_value(horizon) - self.IRA_value(horizon) \n",
    "                      - self.starting_value * self.tax_rate_ord_inc) #C\n",
    "        return difference\n",
    "    def Roth_value(self, horizon=30):\n",
    "        aftertax_value = self.starting_value * (1+self.avg_ret)**horizon\n",
    "        return aftertax_value\n",
    "    \n",
    "#A This method gets automatically called when a new object is created to initialize the object’s attributes\n",
    "#B For the taxable account, keep track of the increase in cost basis every year\n",
    "#C The initial tax liability of the IRA is taken out to normalize the difference: an asset with zero returns will now have zero difference between a taxable account and an IRA"
   ]
  },
  {
   "cell_type": "code",
   "execution_count": 12,
   "id": "722e1472",
   "metadata": {},
   "outputs": [],
   "source": [
    "# Create instances of the class Asset()\n",
    "\n",
    "stock = Asset()\n",
    "bond = Asset(avg_ret=0.03, payout_rate=0.03, tax_rate_payout=0.35)"
   ]
  },
  {
   "cell_type": "code",
   "execution_count": 11,
   "id": "9b9b60d6",
   "metadata": {},
   "outputs": [
    {
     "data": {
      "text/plain": [
       "4125062.7556293793"
      ]
     },
     "execution_count": 11,
     "metadata": {},
     "output_type": "execute_result"
    }
   ],
   "source": [
    "stock.Taxable_value()"
   ]
  },
  {
   "cell_type": "code",
   "execution_count": 13,
   "id": "0ed30449",
   "metadata": {},
   "outputs": [
    {
     "data": {
      "text/plain": [
       "788860.3031366403"
      ]
     },
     "execution_count": 13,
     "metadata": {},
     "output_type": "execute_result"
    }
   ],
   "source": [
    "bond.IRA_value()"
   ]
  },
  {
   "cell_type": "code",
   "execution_count": 14,
   "id": "389f4d46",
   "metadata": {},
   "outputs": [
    {
     "data": {
      "text/plain": [
       "3270363.4889488714"
      ]
     },
     "execution_count": 14,
     "metadata": {},
     "output_type": "execute_result"
    }
   ],
   "source": [
    "stock.IRA_value()"
   ]
  },
  {
   "cell_type": "code",
   "execution_count": 15,
   "id": "7475d449",
   "metadata": {},
   "outputs": [
    {
     "data": {
      "text/plain": [
       "892456.1933726945"
      ]
     },
     "execution_count": 15,
     "metadata": {},
     "output_type": "execute_result"
    }
   ],
   "source": [
    "bond.Taxable_value()"
   ]
  },
  {
   "cell_type": "markdown",
   "id": "8fa0d0c4",
   "metadata": {},
   "source": [
    "The code that generated figure 8.1:"
   ]
  },
  {
   "cell_type": "code",
   "execution_count": 16,
   "id": "e0c7eef3",
   "metadata": {},
   "outputs": [
    {
     "name": "stdout",
     "output_type": "stream",
     "text": [
      "486124.42899273755\n"
     ]
    }
   ],
   "source": [
    "large_cap = Asset(avg_ret=0.08, payout_rate=0.015, tax_rate_payout=0.20, turnover_rate=0)\n",
    "a1 = large_cap.Taxable_minus_IRA()\n",
    "print(a1)"
   ]
  },
  {
   "cell_type": "code",
   "execution_count": 17,
   "id": "3d57bba2",
   "metadata": {},
   "outputs": [
    {
     "name": "stdout",
     "output_type": "stream",
     "text": [
      "399863.15008108877\n"
     ]
    }
   ],
   "source": [
    "large_cap_intl = Asset(avg_ret=0.08, payout_rate=0.015, tax_rate_payout=0.25, turnover_rate=0)\n",
    "a2 = large_cap_intl.Taxable_minus_IRA()\n",
    "print(a2)"
   ]
  },
  {
   "cell_type": "code",
   "execution_count": 18,
   "id": "3193232a",
   "metadata": {},
   "outputs": [
    {
     "name": "stdout",
     "output_type": "stream",
     "text": [
      "-71404.1097639458\n"
     ]
    }
   ],
   "source": [
    "money_mkt = Asset(avg_ret=0.03, payout_rate=0.03, tax_rate_payout=0.35, turnover_rate=0)\n",
    "a3 = money_mkt.Taxable_minus_IRA()\n",
    "print(a3)"
   ]
  },
  {
   "cell_type": "code",
   "execution_count": 19,
   "id": "58bda919",
   "metadata": {},
   "outputs": [
    {
     "name": "stdout",
     "output_type": "stream",
     "text": [
      "-505647.55606627045\n"
     ]
    }
   ],
   "source": [
    "reits = Asset(avg_ret=0.08, payout_rate=0.045, tax_rate_payout=0.35, turnover_rate=0)\n",
    "a4 = reits.Taxable_minus_IRA()\n",
    "print(a4)"
   ]
  },
  {
   "cell_type": "code",
   "execution_count": 20,
   "id": "cbd4afbf",
   "metadata": {},
   "outputs": [
    {
     "name": "stdout",
     "output_type": "stream",
     "text": [
      "-1237991.5615030834\n"
     ]
    }
   ],
   "source": [
    "large_cap_hi_turnover = Asset(avg_ret=0.08, payout_rate=0.015, tax_rate_payout=0.20, turnover_rate=0.20)\n",
    "a5 = large_cap_hi_turnover.Taxable_minus_IRA()\n",
    "print(a5)"
   ]
  },
  {
   "cell_type": "code",
   "execution_count": 21,
   "id": "7f06fa8e",
   "metadata": {},
   "outputs": [
    {
     "name": "stdout",
     "output_type": "stream",
     "text": [
      "-621461.6862886553\n"
     ]
    }
   ],
   "source": [
    "hi_yield_bond = Asset(avg_ret=0.075, payout_rate=0.055, tax_rate_payout=0.35, turnover_rate=0)\n",
    "a6 = hi_yield_bond.Taxable_minus_IRA()\n",
    "print(a6)"
   ]
  },
  {
   "cell_type": "code",
   "execution_count": 22,
   "id": "707d2e5e",
   "metadata": {},
   "outputs": [
    {
     "name": "stdout",
     "output_type": "stream",
     "text": [
      "755306.318368162\n"
     ]
    }
   ],
   "source": [
    "hi_growth = Asset(avg_ret=0.095, payout_rate=0.015, tax_rate_payout=0.20, turnover_rate=0)\n",
    "a7 = hi_growth.Taxable_minus_IRA()\n",
    "print(a7)"
   ]
  },
  {
   "cell_type": "code",
   "execution_count": 23,
   "id": "bda8055a",
   "metadata": {},
   "outputs": [
    {
     "name": "stdout",
     "output_type": "stream",
     "text": [
      "-2008477.2805334623\n"
     ]
    }
   ],
   "source": [
    "hi_growth_hi_turnover = Asset(avg_ret=0.095, payout_rate=0.015, tax_rate_payout=0.20, turnover_rate=0.20)\n",
    "a8 = hi_growth_hi_turnover.Taxable_minus_IRA()\n",
    "print(a8)"
   ]
  },
  {
   "cell_type": "code",
   "execution_count": 24,
   "id": "0cbef174",
   "metadata": {},
   "outputs": [
    {
     "name": "stdout",
     "output_type": "stream",
     "text": [
      "170122.97475767776\n"
     ]
    }
   ],
   "source": [
    "muni_bond = Asset(avg_ret=0.025, payout_rate=0.02, tax_rate_payout=0.0, turnover_rate=0.0)\n",
    "a9 = muni_bond.Taxable_minus_IRA()\n",
    "print(a9)"
   ]
  },
  {
   "cell_type": "code",
   "execution_count": 25,
   "id": "7218201d",
   "metadata": {},
   "outputs": [
    {
     "name": "stdout",
     "output_type": "stream",
     "text": [
      "-149186.0724326477\n"
     ]
    }
   ],
   "source": [
    "treas_bond = Asset(avg_ret=0.04, payout_rate=0.04, tax_rate_payout=0.35, turnover_rate=0)\n",
    "a10 = treas_bond.Taxable_minus_IRA()\n",
    "print(a10)"
   ]
  },
  {
   "cell_type": "code",
   "execution_count": 32,
   "id": "bbe99e6b",
   "metadata": {},
   "outputs": [
    {
     "data": {
      "image/png": "[encoded data removed]",
      "text/plain": [
       "<Figure size 1152x648 with 1 Axes>"
      ]
     },
     "metadata": {
      "needs_background": "light"
     },
     "output_type": "display_data"
    }
   ],
   "source": [
    "import matplotlib.pyplot as plt\n",
    "import numpy as np\n",
    "import pandas as pd\n",
    "\n",
    "l = [a1, a2, a3, a4, a5, a6, a7, a8, a9, a10]\n",
    "assets = ['Large Cap Stocks', 'International Stocks', 'Money Market Fund', 'REITs', 'Large Cap/\\nHigh Turnover', \n",
    "          'High Yield Bonds', 'High Growth Stocks',\n",
    "          'High Growth/\\nHigh Turnover', 'Muni Bonds', 'Government Bonds']\n",
    "plt.figure(figsize=(16,9))\n",
    "plt.plot(l, np.zeros(len(l)), 'x', mew=3, ms=12)\n",
    "ax = plt.gca()\n",
    "ax.set_xlim([-2200000, 1000000])\n",
    "ax.get_yaxis().set_visible(False)\n",
    "plt.xlabel('Taxable Value Minus IRA Value', size=18)\n",
    "plt.axhline(y=0.0, color='b', linestyle='-', lw=3)\n",
    "plt.axvline(x=0, color='b', lw=1)\n",
    "plt.xticks(fontsize=18)\n",
    "ax.xaxis.offsetText.set_fontsize(18)\n",
    "for i, asset in enumerate(assets):\n",
    "    plt.annotate(asset, (l[i], -0.002), ha='center', va='top', weight='bold', rotation=270, size=18)\n",
    "#plt.savefig('Fig6_1.png', bbox_inches=\"tight\", dpi=300);\n",
    "#plt.savefig('Fig6_1.svg', box_inches=\"tight\", format='svg');"
   ]
  },
  {
   "cell_type": "markdown",
   "id": "c44f962f",
   "metadata": {},
   "source": [
    "For the example in section 8.3.1:"
   ]
  },
  {
   "cell_type": "code",
   "execution_count": 39,
   "id": "f51ced29",
   "metadata": {},
   "outputs": [
    {
     "name": "stdout",
     "output_type": "stream",
     "text": [
      "12092.61171251908\n"
     ]
    }
   ],
   "source": [
    "# Create an 11th asset for this example, perhaps a emerging market stock index with high growth/low turnover\n",
    "\n",
    "em_mkt = Asset(avg_ret=0.095, payout_rate=0.015, tax_rate_payout=0.20, turnover_rate=0.04)\n",
    "a11 = em_mkt.Taxable_minus_IRA()\n",
    "print(a11)"
   ]
  },
  {
   "cell_type": "code",
   "execution_count": 37,
   "id": "d4bc72c1",
   "metadata": {},
   "outputs": [
    {
     "data": {
      "image/png": "[encoded data removed]",
      "text/plain": [
       "<Figure size 1152x648 with 1 Axes>"
      ]
     },
     "metadata": {
      "needs_background": "light"
     },
     "output_type": "display_data"
    }
   ],
   "source": [
    "l = [a1, a6, a11]\n",
    "assets = ['Large Cap Stocks',\n",
    "          'High Yield Bonds', 'Growth/Small Turnover']\n",
    "plt.figure(figsize=(16,9))\n",
    "plt.plot(l, np.zeros(len(l)), 'x', mew=3, ms=12)\n",
    "ax = plt.gca()\n",
    "ax.set_xlim([-2200000, 1000000])\n",
    "ax.get_yaxis().set_visible(False)\n",
    "plt.xlabel('Taxable Value Minus IRA Value', size=18)\n",
    "plt.axhline(y=0.0, color='b', linestyle='-', lw=3)\n",
    "plt.axvline(x=0, color='b', lw=1)\n",
    "plt.xticks(fontsize=18)\n",
    "ax.xaxis.offsetText.set_fontsize(18)\n",
    "for i, asset in enumerate(assets):\n",
    "    plt.annotate(asset, (l[i], -0.002), ha='center', va='top', weight='bold', rotation=270, size=18)\n",
    "#plt.savefig('Fig6_2.png', bbox_inches=\"tight\", dpi=300);\n",
    "#plt.savefig('Fig6_2.svg', box_inches=\"tight\", format='svg');"
   ]
  },
  {
   "cell_type": "code",
   "execution_count": 40,
   "id": "3b6bfcfa",
   "metadata": {},
   "outputs": [],
   "source": [
    "# Compute the value of each asset type in each account type\n",
    "\n",
    "p11 = large_cap.IRA_value()\n",
    "p12 = large_cap.Roth_value()\n",
    "p13 = large_cap.Taxable_value()\n",
    "p21 = hi_yield_bond.IRA_value()\n",
    "p22 = hi_yield_bond.Roth_value()\n",
    "p23 = hi_yield_bond.Taxable_value()\n",
    "p31 = em_mkt.IRA_value()\n",
    "p32 = em_mkt.Roth_value()\n",
    "p33 = em_mkt.Taxable_value()"
   ]
  },
  {
   "cell_type": "code",
   "execution_count": 44,
   "id": "7085a2bb",
   "metadata": {},
   "outputs": [
    {
     "name": "stdout",
     "output_type": "stream",
     "text": [
      "large cap in IRA, hi yield in Roth, emerg mkt in Taxable:\n",
      "12781535.325101089\n",
      "large cap in IRA, hi yield in Taxable, emerg mkt in Roth:\n",
      "13279418.592852416\n",
      "large cap in Roth, hi yield in IRA, emerg mkt in Taxable:\n",
      "13010383.122619387\n",
      "large cap in Roth, hi yield in Taxable, emerg mkt in IRA:\n",
      "12376828.824618213\n",
      "large cap in Taxable, hi yield in IRA, emerg mkt in Roth:\n",
      "14387004.70813381\n",
      "large cap in taxable, hi yield in Roth, emerg mkt in IRA:\n",
      "13255567.142381309\n"
     ]
    }
   ],
   "source": [
    "# Compute all six combinations of placing assets in accounts\n",
    "print(\"large cap in IRA, hi yield in Roth, emerg mkt in Taxable:\")\n",
    "print(p11+p22+p33)\n",
    "print(\"large cap in IRA, hi yield in Taxable, emerg mkt in Roth:\")\n",
    "print(p11+p23+p32)\n",
    "print(\"large cap in Roth, hi yield in IRA, emerg mkt in Taxable:\")\n",
    "print(p12+p21+p33)\n",
    "print(\"large cap in Roth, hi yield in Taxable, emerg mkt in IRA:\")\n",
    "print(p12+p23+p31)\n",
    "print(\"large cap in Taxable, hi yield in IRA, emerg mkt in Roth:\")\n",
    "print(p13+p21+p32)\n",
    "print(\"large cap in taxable, hi yield in Roth, emerg mkt in IRA:\")\n",
    "print(p13+p22+p31)"
   ]
  },
  {
   "cell_type": "markdown",
   "id": "24948a40",
   "metadata": {},
   "source": [
    "Of the six combinations, the results above show that the optimal one is:\n",
    "- Large Cap stocks in Taxable account\n",
    "- High Yield bonds in IRA account\n",
    "- Emerging market stocks in Roth accout"
   ]
  },
  {
   "cell_type": "markdown",
   "id": "98b494c8",
   "metadata": {},
   "source": [
    "For the example in section 8.3.2"
   ]
  },
  {
   "cell_type": "code",
   "execution_count": 62,
   "id": "962960e3",
   "metadata": {},
   "outputs": [
    {
     "data": {
      "text/plain": [
       "<Figure size 1152x648 with 0 Axes>"
      ]
     },
     "metadata": {},
     "output_type": "display_data"
    },
    {
     "data": {
      "text/plain": [
       "<Figure size 1152x648 with 0 Axes>"
      ]
     },
     "metadata": {},
     "output_type": "display_data"
    },
    {
     "data": {
      "image/png": "[encoded data removed]",
      "text/plain": [
       "<Figure size 1152x648 with 1 Axes>"
      ]
     },
     "metadata": {
      "needs_background": "light"
     },
     "output_type": "display_data"
    }
   ],
   "source": [
    "l = [a3, a4, a6, a7, a10]\n",
    "assets = ['Money Market Fund', 'REITs', \n",
    "          'High Yield Bonds', 'High Growth Stocks', 'Government Bonds']\n",
    "plt.figure(figsize=(16,9))\n",
    "plt.figure(figsize=(16,9))\n",
    "plt.figure(figsize=(16,9))\n",
    "plt.plot(l, np.zeros(len(l)), 'x', mew=3, ms=12)\n",
    "ax = plt.gca()\n",
    "ax.set_xlim([-2200000, 1000000])\n",
    "ax.get_yaxis().set_visible(False)\n",
    "plt.xlabel('Taxable Value Minus IRA Value', size=18)\n",
    "plt.axhline(y=0.0, color='b', linestyle='-', lw=3)\n",
    "plt.axvline(x=0, color='b', lw=1)\n",
    "plt.xticks(fontsize=18)\n",
    "ax.xaxis.offsetText.set_fontsize(18)\n",
    "for i, asset in enumerate(assets):\n",
    "    plt.annotate(asset, (l[i], -0.002), ha='center', va='top', weight='bold', rotation=270, size=18)\n",
    "#plt.savefig('Fig6_3.png', bbox_inches=\"tight\", dpi=300);\n",
    "#plt.savefig('Fig6_3.svg', box_inches=\"tight\", format='svg');"
   ]
  },
  {
   "cell_type": "code",
   "execution_count": 67,
   "id": "a78da5c4",
   "metadata": {},
   "outputs": [
    {
     "name": "stdout",
     "output_type": "stream",
     "text": [
      "[[2845360  788860 3270363  788860 4946601]\n",
      " [4377477 1213631 5031328 1213631 7610156]\n",
      " [2398898  892456 2939715  892456 5876907]]\n"
     ]
    }
   ],
   "source": [
    "# Compute the 3x5 value matrix which will be an input to the optimizer\n",
    "\n",
    "ar00 = hi_yield_bond.IRA_value()\n",
    "ar10 = hi_yield_bond.Roth_value()\n",
    "ar20 = hi_yield_bond.Taxable_value()\n",
    "ar01 = bond.IRA_value()\n",
    "ar11 = bond.Roth_value()\n",
    "ar21 = bond.Taxable_value()\n",
    "ar02 = reits.IRA_value()\n",
    "ar12 = reits.Roth_value()\n",
    "ar22 = reits.Taxable_value()\n",
    "ar03 = money_mkt.IRA_value()\n",
    "ar13 = money_mkt.Roth_value()\n",
    "ar23 = money_mkt.Taxable_value()\n",
    "ar04 = hi_growth.IRA_value()\n",
    "ar14 = hi_growth.Roth_value()\n",
    "ar24 = hi_growth.Taxable_value()\n",
    "\n",
    "value_matrix = np.array([[ar00, ar01, ar02, ar03, ar04],\n",
    "                         [ar10, ar11, ar12, ar13, ar14],\n",
    "                         [ar20, ar21, ar22, ar23, ar24]], dtype='int64')\n",
    "print(value_matrix)"
   ]
  },
  {
   "cell_type": "code",
   "execution_count": null,
   "id": "99284ba3",
   "metadata": {},
   "outputs": [],
   "source": []
  },
  {
   "cell_type": "markdown",
   "id": "f1487871",
   "metadata": {},
   "source": [
    "Here is the depth-first search algorithm that we used for the optimization "
   ]
  },
  {
   "cell_type": "code",
   "execution_count": 46,
   "id": "746c7373",
   "metadata": {},
   "outputs": [],
   "source": [
    "from frozendict import frozendict\n",
    "import time\n",
    "\n",
    "class GeneralizedAssignment():\n",
    "    \"\"\"\n",
    "    Find the assignment that offers the maximum profit.\n",
    "    \n",
    "    Special version of the Generalized Assignment Problem, that allows agents\n",
    "    to be assigned to more than one task.\n",
    "    \n",
    "    Assignments are generated through depth-first search, expanding most \n",
    "    promising nodes first. True maximum assignment is guaranteed when\n",
    "    algorithm is allowed to complete. Otherwise, the assignment printed last\n",
    "    may be used as a best guess.\n",
    "    \n",
    "    Optional 'complete' parameter requires agents and tasks to fully use\n",
    "    their budgets.\n",
    "    \n",
    "    Optional 'fair' parameter maximizes the profits related to the least\n",
    "    profitable task (and thus equalizes the profits among tasks).\n",
    "    \"\"\"\n",
    "    \n",
    "    def __init__(self, agents, tasks, \n",
    "                 agent_budget=lambda a: 1,\n",
    "                 agent_cost=lambda a, t: 1,\n",
    "                 task_budget=lambda a: 1,\n",
    "                 task_cost=lambda a, t: 1,\n",
    "                 profit=lambda a, t: 1,\n",
    "                 hard_assignment=False,\n",
    "                 complete=False,\n",
    "                 fair=False,\n",
    "                 verbose=True):\n",
    "        \n",
    "        # Register class variables\n",
    "        self.agents = agents\n",
    "        self.tasks = tasks\n",
    "        self.agent_budget = agent_budget\n",
    "        self.agent_cost = agent_cost\n",
    "        self.task_budget = task_budget\n",
    "        self.task_cost = task_cost\n",
    "        self.profit = profit\n",
    "        \n",
    "        self.hard_assignment = hard_assignment\n",
    "        self.complete = complete\n",
    "        self.fair = fair\n",
    "        self.verbose = verbose\n",
    "        \n",
    "        # Initialize dictionary of finished assignments and profits\n",
    "        self.finished_assignments = {}\n",
    "        self.max_profit = 0\n",
    "        self.fair_profit = 0\n",
    "        \n",
    "        # Find all possible assignments\n",
    "        init_assignment = self.initialize_assignment()\n",
    "        \n",
    "        self.assign({init_assignment})\n",
    "        \n",
    "        # Print the best assignment\n",
    "        if self.verbose: self.print_stats()\n",
    "    \n",
    "    \n",
    "    ######################\n",
    "    ### MAIN FUNCTIONS ###\n",
    "    ######################\n",
    "    \n",
    "    def initialize_assignment(self):\n",
    "        \"\"\"Initialize the assignment state.\"\"\"\n",
    "        # Initialize empty frozensets for each agent\n",
    "        init_assignment = frozendict({a:frozenset() for a in self.agents})\n",
    "        \n",
    "        # Add hard assignments\n",
    "        if self.hard_assignment:\n",
    "            init_dict = dict(init_assignment)\n",
    "            for a, t in self.hard_assignment.items():\n",
    "                init_dict[a] = init_dict[a] | t\n",
    "            init_assignment = frozendict(init_dict)\n",
    "            \n",
    "        return init_assignment\n",
    "    \n",
    "    def assign(self, starts):\n",
    "        start = time.time()\n",
    "        diff = 0\n",
    "        #end = time.time()\n",
    "        #start = 0\n",
    "        #end = 0\n",
    "        \"\"\"Perform depth-first search.\n",
    "        \n",
    "        Expanding most promising nodes first. True maximum assignment is\n",
    "        guaranteed when algorithm is allowed to complete. Otherwise, the \n",
    "        assignment printed last may be used as a best guess.\n",
    "        \"\"\"\n",
    "        # Initialize the set of open and closed nodes, and the connection map\n",
    "        open_set, closed_set = starts, set()\n",
    "        \n",
    "        # Initialize a map of assignments and associated profits\n",
    "        profits = {s:0 for s in starts}\n",
    "        \n",
    "        while open_set and (diff<30):\n",
    "            diff = time.time() - start\n",
    "\n",
    "            # Explore the most promising node\n",
    "            current = max(open_set, key=lambda n: profits[n])\n",
    "            \n",
    "            # Move the current node from the open set to the closed set\n",
    "            open_set.remove(current)\n",
    "            closed_set.add(current)\n",
    "            \n",
    "            # Track if assignment is complete\n",
    "            assignment_finished = True\n",
    "            \n",
    "            # Determine all possible next assignment steps\n",
    "            for agent in self.agents:\n",
    "                # Determine possible tasks the agent may be assigned to\n",
    "                poss_tasks = self.assign_agent(agent, current)\n",
    "                \n",
    "                # If assignments are possible, the assignment is not complete\n",
    "                if poss_tasks: assignment_finished = False\n",
    "                \n",
    "                for task in poss_tasks:\n",
    "                    # Determine next assignment step\n",
    "                    next_dict = dict(current)\n",
    "                    next_dict[agent] = next_dict[agent] | {task}\n",
    "                    next_assignment = frozendict(next_dict)\n",
    "                    \n",
    "                    # If we have already explored this assignment, continue\n",
    "                    if next_assignment in closed_set:\n",
    "                        continue\n",
    "                    # Else add the assignment to the open set\n",
    "                    else:\n",
    "                        open_set.add(next_assignment)\n",
    "                        profits[next_assignment] = self.calc_profit(next_assignment)\n",
    "                    \n",
    "            # If assignment is finished, add it to finished assignments\n",
    "            if assignment_finished:\n",
    "                \n",
    "                # Check if assignment is also complete\n",
    "                if self.complete and not self.is_complete(current):\n",
    "                    continue\n",
    "                \n",
    "                self.finished_assignments[current] = profits[current]\n",
    "                \n",
    "                # Update current fair / max profit and print if applicable\n",
    "                # Procedure for fair profit (max profit tiebreaker)\n",
    "                if self.fair:\n",
    "                    cur_fair_profit = self.calc_fair_profit(current)\n",
    "                    if ((cur_fair_profit > self.fair_profit) or \n",
    "                        (cur_fair_profit == self.fair_profit and\n",
    "                         profits[current] > self.max_profit)):\n",
    "                        self.fair_profit = cur_fair_profit\n",
    "                        self.max_profit = profits[current]\n",
    "                        #####self.print_assignment(current, profits[current])\n",
    "                    #####elif (self.verbose and profits[current] >= self.max_profit\n",
    "                    #####      and cur_fair_profit >= self.fair_profit):\n",
    "                        #####self.print_assignment(current, profits[current])\n",
    "                # Procedure for maximum profit\n",
    "                else:\n",
    "                    if profits[current] > self.max_profit:\n",
    "                        self.max_profit = profits[current]\n",
    "                        ######self.print_assignment(current, profits[current])\n",
    "                    #####elif self.verbose and profits[current] >= self.max_profit:\n",
    "                        ######self.print_assignment(current, profits[current])\n",
    "    def assign_agent(self, agent, assignment):\n",
    "        \"\"\"\n",
    "        Determine possible assignments for a single agent.\n",
    "        \n",
    "        Input: agent, assignment definition, current assignment\n",
    "        Output: list of possible tasks the agent may be assigned to\n",
    "        \"\"\"\n",
    "        \n",
    "        # Calculate remaining budget for agent\n",
    "        remaining_budget = self.calc_agent_budget(agent, assignment)\n",
    "        \n",
    "        # Determine which tasks the agent has budget for\n",
    "        tasks_in_budget = {t for t in self.tasks\n",
    "                           if self.agent_cost(agent, t) <= remaining_budget}\n",
    "        \n",
    "        # Agent cannot be assigned to the same task twice\n",
    "        tasks_in_budget = {t for t in tasks_in_budget if t not in assignment[agent]}\n",
    "        \n",
    "        # Determine which tasks have enough budget remaining for the agent\n",
    "        possible_tasks = []\n",
    "        for task in tasks_in_budget:\n",
    "            remaining_task_budget = self.calc_task_budget(task, assignment)\n",
    "            if self.task_cost(agent, task) <= remaining_task_budget:\n",
    "                possible_tasks.append(task)\n",
    "                \n",
    "        return sorted(possible_tasks)\n",
    "\n",
    "    ########################\n",
    "    ### HELPER FUNCTIONS ###\n",
    "    ########################\n",
    "\n",
    "    def calc_agent_budget(self, agent, assignment):\n",
    "        \"\"\"Calculate remaining budget for agent given the current assignment.\"\"\"\n",
    "        budget_spent = sum([self.agent_cost(agent, t) for t in assignment[agent]])\n",
    "        return self.agent_budget(agent) - budget_spent\n",
    "\n",
    "    def calc_task_budget(self, task, assignment):\n",
    "        \"\"\"Calculate remaining budget for a task given the current assignment.\"\"\"\n",
    "        # Get the agents assigned to this task\n",
    "        agents_assigned = {a for a, tasks in assignment.items() if task in tasks}\n",
    "        budget_spent = sum([self.task_cost(a, task) for a in agents_assigned])\n",
    "        return self.task_budget(task) - budget_spent\n",
    "\n",
    "    def calc_profit(self, assignment):\n",
    "        \"\"\"Calculate the profit for a given assignment.\"\"\"\n",
    "        return sum([self.profit(agent, task)\n",
    "                    for agent, tasks in assignment.items() \n",
    "                    for task in tasks])\n",
    "\n",
    "    def calc_fair_profit(self, assignment):\n",
    "        \"\"\"Calculate the fair profit for a given assignment.\"\"\"\n",
    "        fair_profit = {t:0 for t in self.tasks}\n",
    "        for agent, tasks in assignment.items():\n",
    "            for task in tasks:\n",
    "                fair_profit[task] += self.profit(agent, task)\n",
    "        return min(fair_profit.values())\n",
    "\n",
    "    def is_complete(self, assignment):\n",
    "        \"\"\"A check whether a finished assignment is also complete.\"\"\"\n",
    "        for a in self.agents:\n",
    "            if self.calc_agent_budget(a, assignment):\n",
    "                return False\n",
    "        for t in self.tasks:\n",
    "            if self.calc_task_budget(t, assignment):\n",
    "                return False\n",
    "        return True\n",
    "\n",
    "    #######################\n",
    "    ### PRINT FUNCTIONS ###\n",
    "    #######################\n",
    "\n",
    "    def print_assignment(self, a, profit):\n",
    "        \"\"\"Prettily print an assignment on a single line.\"\"\"\n",
    "        a_list = sorted((a,sorted(t)) for a, t in a.items()) \n",
    "        a_string = ', '.join(['({}: {})'.format(a, ', '.join(t)) for a, t in a_list])\n",
    "        print('{} - {}'.format(profit, a_string))\n",
    "    \n",
    "    def print_stats(self):\n",
    "        \"\"\"Print assignment stats and one max profit assignment.\"\"\"\n",
    "        # Determine assignments with the maximum profit\n",
    "        max_assignments = [a for a,p in self.finished_assignments.items()\n",
    "                           if p == self.max_profit]\n",
    "        \n",
    "        # Print general stats\n",
    "        print('\\nTotal number of assignments: {}'.format(len(self.finished_assignments)))\n",
    "        if self.fair:\n",
    "            print('Maximum fair profit: {}'.format(self.max_profit))\n",
    "            print('Number of max fair profit assignments: {}\\n'.format(len(max_assignments)))\n",
    "        else:\n",
    "            print('Maximum profit: {}'.format(self.max_profit))\n",
    "            print('Number of max profit assignments: {}\\n'.format(len(max_assignments)))\n",
    "        \n",
    "        # Pretty print a single max assignment\n",
    "        if max_assignments:\n",
    "            print('Example of a maximum profit assignment:')\n",
    "            #print(max_assignments)\n",
    "            for a, t in sorted((a,sorted(t)) for a, t in max_assignments[0].items()):\n",
    "                print('Agent: {}\\tTasks: {}'.format(a, ', '.join(t)))\n",
    "                # Make solution an attribute\n",
    "        \n",
    "        # Add an attribute for an example of max assignment \n",
    "        self.solution = max_assignments[0]\n"
   ]
  },
  {
   "cell_type": "markdown",
   "id": "fb373bb0",
   "metadata": {},
   "source": [
    "We round the amounts to the nearest \\$100,000 to simplify the optimization."
   ]
  },
  {
   "cell_type": "code",
   "execution_count": 59,
   "id": "92b43dc2",
   "metadata": {},
   "outputs": [
    {
     "name": "stdout",
     "output_type": "stream",
     "text": [
      "\n",
      "Total number of assignments: 2520\n",
      "Maximum profit: 41018205.39180832\n",
      "Number of max profit assignments: 8\n",
      "\n",
      "Example of a maximum profit assignment:\n",
      "Agent: IRA\tTasks: High Yield Bonds0, High Yield Bonds1, REITs1\n",
      "Agent: Roth\tTasks: High Growth Stocks2, REITs0\n",
      "Agent: Taxable\tTasks: Government Bonds0, High Growth Stocks0, High Growth Stocks1, High Growth Stocks3, Money Market0\n"
     ]
    }
   ],
   "source": [
    "# Discretize account type and investments\n",
    "inc = 100000\n",
    "acct_vals = [300000, 200000, 500000]\n",
    "acct_vals = [round(vals/inc)*inc for vals in acct_vals]\n",
    "investment_vals = [200000, 100000, 200000, 100000, 400000]\n",
    "investment_vals = [round(vals/inc)*inc for vals in investment_vals]\n",
    "\n",
    "agents = ['IRA', 'Roth', 'Taxable']\n",
    "tasks = ['High Yield Bonds', 'Government Bonds', 'REITs', 'Money Market', 'High Growth Stocks']\n",
    "\n",
    "agent_budget = dict(zip(agents, acct_vals))\n",
    "agent_cost = lambda a, t: inc\n",
    "\n",
    "tasks_new = []\n",
    "for j in range(len(tasks)):\n",
    "    for k in range(investment_vals[j]//inc):\n",
    "        tasks_new.append(tasks[j]+str(k))\n",
    "task_budget = dict(zip(tasks_new,[inc for j in range(len(tasks_new))]))\n",
    "task_cost = lambda a, t: inc\n",
    "\n",
    " \n",
    "value_matrix = np.array([[ar00, ar01, ar02, ar03, ar04],\n",
    "                         [ar10, ar11, ar12, ar13, ar14],\n",
    "                         [ar20, ar21, ar22, ar23, ar24]]) \n",
    "\n",
    "profit = {}\n",
    "for i in range(len(agents)):\n",
    "    for j in range(len(tasks)):\n",
    "        for k in range(investment_vals[j]//inc):\n",
    "            profit[(agents[i], tasks[j]+str(k))] = value_matrix[i,j]\n",
    "\n",
    "# Optional hard assignments (map of agent: set of tasks)\n",
    "hard_assignment = {}\n",
    "\n",
    "# Calculate maximum assignment\n",
    "FiveAssets = GeneralizedAssignment(agents, tasks_new, lambda a: agent_budget[a], agent_cost,\n",
    "                      lambda t: task_budget[t], task_cost,\n",
    "                      lambda a, t: profit[(a,t)],\n",
    "                      hard_assignment=hard_assignment,\n",
    "                      complete=True,\n",
    "                      fair=False)"
   ]
  },
  {
   "cell_type": "code",
   "execution_count": 54,
   "id": "f6d0a8e0",
   "metadata": {},
   "outputs": [
    {
     "name": "stdout",
     "output_type": "stream",
     "text": [
      "[[200000      0 100000      0      0]\n",
      " [     0      0 100000      0 100000]\n",
      " [     0 100000      0 100000 300000]]\n"
     ]
    }
   ],
   "source": [
    "d = FiveAssets.solution\n",
    "\n",
    "ar = np.zeros((len(agents), len(tasks)), dtype=int)\n",
    "\n",
    "for i,a in enumerate(agents):\n",
    "    for j,t in enumerate(tasks):\n",
    "        sum_tasks = 0\n",
    "        for task in d[a]:\n",
    "            if t == task[0:len(t)]:\n",
    "                sum_tasks += inc\n",
    "        ar[i,j] = sum_tasks\n",
    "        \n",
    "print(ar)"
   ]
  },
  {
   "cell_type": "code",
   "execution_count": 55,
   "id": "f0bf8f86",
   "metadata": {},
   "outputs": [
    {
     "data": {
      "text/html": [
       "<div>\n",
       "<style scoped>\n",
       "    .dataframe tbody tr th:only-of-type {\n",
       "        vertical-align: middle;\n",
       "    }\n",
       "\n",
       "    .dataframe tbody tr th {\n",
       "        vertical-align: top;\n",
       "    }\n",
       "\n",
       "    .dataframe thead th {\n",
       "        text-align: right;\n",
       "    }\n",
       "</style>\n",
       "<table border=\"1\" class=\"dataframe\">\n",
       "  <thead>\n",
       "    <tr style=\"text-align: right;\">\n",
       "      <th></th>\n",
       "      <th>High Yield Bonds</th>\n",
       "      <th>Government Bonds</th>\n",
       "      <th>REITs</th>\n",
       "      <th>Money Market</th>\n",
       "      <th>High Growth Stocks</th>\n",
       "    </tr>\n",
       "  </thead>\n",
       "  <tbody>\n",
       "    <tr>\n",
       "      <th>IRA</th>\n",
       "      <td>200000</td>\n",
       "      <td>0</td>\n",
       "      <td>100000</td>\n",
       "      <td>0</td>\n",
       "      <td>0</td>\n",
       "    </tr>\n",
       "    <tr>\n",
       "      <th>Roth</th>\n",
       "      <td>0</td>\n",
       "      <td>0</td>\n",
       "      <td>100000</td>\n",
       "      <td>0</td>\n",
       "      <td>100000</td>\n",
       "    </tr>\n",
       "    <tr>\n",
       "      <th>Taxable</th>\n",
       "      <td>0</td>\n",
       "      <td>100000</td>\n",
       "      <td>0</td>\n",
       "      <td>100000</td>\n",
       "      <td>300000</td>\n",
       "    </tr>\n",
       "  </tbody>\n",
       "</table>\n",
       "</div>"
      ],
      "text/plain": [
       "         High Yield Bonds  Government Bonds   REITs  Money Market  \\\n",
       "IRA                200000                 0  100000             0   \n",
       "Roth                    0                 0  100000             0   \n",
       "Taxable                 0            100000       0        100000   \n",
       "\n",
       "         High Growth Stocks  \n",
       "IRA                       0  \n",
       "Roth                 100000  \n",
       "Taxable              300000  "
      ]
     },
     "execution_count": 55,
     "metadata": {},
     "output_type": "execute_result"
    }
   ],
   "source": [
    "df = pd.DataFrame(ar, index=agents, columns=tasks)\n",
    "df"
   ]
  },
  {
   "cell_type": "code",
   "execution_count": 65,
   "id": "bbf178e7",
   "metadata": {},
   "outputs": [
    {
     "data": {
      "text/plain": [
       "<matplotlib.legend.Legend at 0x20e706079a0>"
      ]
     },
     "execution_count": 65,
     "metadata": {},
     "output_type": "execute_result"
    },
    {
     "data": {
      "image/png": "[encoded data removed]",
      "text/plain": [
       "<Figure size 720x432 with 1 Axes>"
      ]
     },
     "metadata": {
      "needs_background": "light"
     },
     "output_type": "display_data"
    }
   ],
   "source": [
    "df.columns.name = 'Investments'\n",
    "df.index.name = 'Account Type'\n",
    "\n",
    "import matplotlib\n",
    "matplotlib.rc('xtick', labelsize=12) \n",
    "matplotlib.rc('ytick', labelsize=12)\n",
    "matplotlib.rc('axes', titlesize=12)     # fontsize of the axes title\n",
    "matplotlib.rc('axes', labelsize=12)    # fontsize of the x and y labels\n",
    "ax = plt.figure(figsize=(10, 6)).add_subplot(111)\n",
    "df.plot(ax=ax, kind='bar', stacked=True, legend=False)\n",
    "\n",
    "bars = ax.patches\n",
    "#patterns =('//', '\\\\\\\\', '||', '--', '++', 'xx', 'oo', 'OO', '..', '**')\n",
    "patterns =('////', '\\\\\\\\\\\\\\\\', '||||', '----', '....', 'xx', 'oo', 'OO', '++', '**')\n",
    "hatches = [p for p in patterns for i in range(len(df))]\n",
    "for bar, hatch in zip(bars, hatches):\n",
    "    bar.set_hatch(hatch)\n",
    "ax.legend(loc='best', prop={'size': 10}, bbox_to_anchor=(1, 1), ncol=4)\n",
    "plt.legend(loc='upper left', prop={'size': 12})\n",
    "#plt.savefig('Fig6_4.png', bbox_inches=\"tight\", dpi=300);\n",
    "#plt.savefig('Fig6_4.svg', box_inches=\"tight\", format='svg');"
   ]
  },
  {
   "cell_type": "code",
   "execution_count": null,
   "id": "09f66801",
   "metadata": {},
   "outputs": [],
   "source": []
  }
 ],
 "metadata": {
  "kernelspec": {
   "display_name": "Python 3 (ipykernel)",
   "language": "python",
   "name": "python3"
  },
  "language_info": {
   "codemirror_mode": {
    "name": "ipython",
    "version": 3
   },
   "file_extension": ".py",
   "mimetype": "text/x-python",
   "name": "python",
   "nbconvert_exporter": "python",
   "pygments_lexer": "ipython3",
   "version": "3.9.12"
  }
 },
 "nbformat": 4,
 "nbformat_minor": 5
}
