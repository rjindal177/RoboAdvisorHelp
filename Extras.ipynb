{
 "cells": [
  {
   "cell_type": "markdown",
   "id": "1a86ce97",
   "metadata": {},
   "source": [
    "# Scrape Earnings History from Social Security Statement"
   ]
  },
  {
   "cell_type": "code",
   "execution_count": 1,
   "id": "d596d713",
   "metadata": {},
   "outputs": [],
   "source": [
    "import pandas as pd\n",
    "import numpy as np\n",
    "from bs4 import BeautifulSoup"
   ]
  },
  {
   "cell_type": "markdown",
   "id": "d2b741f6",
   "metadata": {},
   "source": [
    "### Importing Social Security Earnings History\n",
    "\n",
    "Create an account on on my Social Security (https://www.ssa.gov/myaccount/). The table lists the \"Earnings Taxed for Social Secuirty\" and another column for \"Earnings Taxed for Medicare\". The latter column is the total earnings. The former column applies a \"tax cap\" - taxes are not applied above a certain threshold, which goes up every year with inflation. \n",
    "\n",
    "Unfortunately, the Social Security statement doesn't give the entire earnings history. It aggregates earnings from 1981-1990, 1991-2000, and 2001-2005. To get the full earnings history, click on \"Review your full earnings record now\". Save that html page in the same directory as the web scraping program. In Google Chrome, you can right click on any element of the table and go to \"inspect\", which will show you the html code for the table. Each row in the table has a `tr` tag, and within a row, each column has a data cell tag, `td`, except the first row, which has a header cell tag, `th`. \n",
    "\n",
    "![html code for one row of earnings history](Soc_Sec_Inspect_Chrome.png)\n",
    "\n",
    "\n",
    "We could scrape data cell-by-data cell, or row-by-row. Here is the code for scraping rows. (You must download your own statement for this to work)."
   ]
  },
  {
   "cell_type": "code",
   "execution_count": 2,
   "id": "a1da5b7c",
   "metadata": {},
   "outputs": [],
   "source": [
    "file = 'Earnings Record - Social Security.html'\n",
    "with open(file, encoding='cp437') as file:\n",
    "    contents = file.read() \n",
    "soup = BeautifulSoup(contents, 'html.parser')"
   ]
  },
  {
   "cell_type": "markdown",
   "id": "fc58997c",
   "metadata": {},
   "source": [
    "We will eliminate the first row, which is the header. Also, the most recent years are on the top, so we will reverse the order of the table. Finally, if you download the earnings history early enough in the following year, it may show up as a row of zeros because the information is not yet reported to Social Security. If that's the case, you can eliminate the last row as well."
   ]
  },
  {
   "cell_type": "code",
   "execution_count": 3,
   "id": "a38620c0",
   "metadata": {},
   "outputs": [],
   "source": [
    "all_rows = soup.find_all(name='tr')\n",
    "all_rows = all_rows[1:]\n",
    "all_rows = all_rows[::-1]"
   ]
  },
  {
   "cell_type": "markdown",
   "id": "2f82a1f1",
   "metadata": {},
   "source": [
    "Next, we want to strip out only the text in a row. Here's what one row's text looks like:"
   ]
  },
  {
   "cell_type": "code",
   "execution_count": 5,
   "id": "6c781c21",
   "metadata": {},
   "outputs": [],
   "source": [
    "all_rows = [row.text.split() for row in all_rows]"
   ]
  },
  {
   "cell_type": "code",
   "execution_count": 6,
   "id": "19b93468",
   "metadata": {},
   "outputs": [
    {
     "data": {
      "text/plain": [
       "[['1977', '$41', '$41'],\n",
       " ['1978', '$59', '$59'],\n",
       " ['1979', '$58', '$58'],\n",
       " ['1980', '$46', '$46'],\n",
       " ['1981', '$429', '$429'],\n",
       " ['1982', '$172', '$172'],\n",
       " ['1983', '$10,533', '$10,533'],\n",
       " ['1984', '$25,386', '$25,386'],\n",
       " ['1985', '$30,061', '$30,061'],\n",
       " ['1986', '$32,730', '$32,730']]"
      ]
     },
     "execution_count": 6,
     "metadata": {},
     "output_type": "execute_result"
    }
   ],
   "source": [
    "all_rows[:10]"
   ]
  },
  {
   "cell_type": "markdown",
   "id": "ebc3f112",
   "metadata": {},
   "source": [
    "Now we have a list of lists, which we can transform into a DataFrame"
   ]
  },
  {
   "cell_type": "code",
   "execution_count": 7,
   "id": "0d80ae07",
   "metadata": {},
   "outputs": [
    {
     "data": {
      "text/html": [
       "<div>\n",
       "<style scoped>\n",
       "    .dataframe tbody tr th:only-of-type {\n",
       "        vertical-align: middle;\n",
       "    }\n",
       "\n",
       "    .dataframe tbody tr th {\n",
       "        vertical-align: top;\n",
       "    }\n",
       "\n",
       "    .dataframe thead th {\n",
       "        text-align: right;\n",
       "    }\n",
       "</style>\n",
       "<table border=\"1\" class=\"dataframe\">\n",
       "  <thead>\n",
       "    <tr style=\"text-align: right;\">\n",
       "      <th></th>\n",
       "      <th>Date</th>\n",
       "      <th>SS_Wages</th>\n",
       "      <th>Medicare_Wages</th>\n",
       "    </tr>\n",
       "  </thead>\n",
       "  <tbody>\n",
       "    <tr>\n",
       "      <th>0</th>\n",
       "      <td>1977</td>\n",
       "      <td>$41</td>\n",
       "      <td>$41</td>\n",
       "    </tr>\n",
       "    <tr>\n",
       "      <th>1</th>\n",
       "      <td>1978</td>\n",
       "      <td>$59</td>\n",
       "      <td>$59</td>\n",
       "    </tr>\n",
       "    <tr>\n",
       "      <th>2</th>\n",
       "      <td>1979</td>\n",
       "      <td>$58</td>\n",
       "      <td>$58</td>\n",
       "    </tr>\n",
       "    <tr>\n",
       "      <th>3</th>\n",
       "      <td>1980</td>\n",
       "      <td>$46</td>\n",
       "      <td>$46</td>\n",
       "    </tr>\n",
       "    <tr>\n",
       "      <th>4</th>\n",
       "      <td>1981</td>\n",
       "      <td>$429</td>\n",
       "      <td>$429</td>\n",
       "    </tr>\n",
       "    <tr>\n",
       "      <th>5</th>\n",
       "      <td>1982</td>\n",
       "      <td>$172</td>\n",
       "      <td>$172</td>\n",
       "    </tr>\n",
       "    <tr>\n",
       "      <th>6</th>\n",
       "      <td>1983</td>\n",
       "      <td>$10,533</td>\n",
       "      <td>$10,533</td>\n",
       "    </tr>\n",
       "    <tr>\n",
       "      <th>7</th>\n",
       "      <td>1984</td>\n",
       "      <td>$25,386</td>\n",
       "      <td>$25,386</td>\n",
       "    </tr>\n",
       "    <tr>\n",
       "      <th>8</th>\n",
       "      <td>1985</td>\n",
       "      <td>$30,061</td>\n",
       "      <td>$30,061</td>\n",
       "    </tr>\n",
       "    <tr>\n",
       "      <th>9</th>\n",
       "      <td>1986</td>\n",
       "      <td>$32,730</td>\n",
       "      <td>$32,730</td>\n",
       "    </tr>\n",
       "  </tbody>\n",
       "</table>\n",
       "</div>"
      ],
      "text/plain": [
       "   Date SS_Wages Medicare_Wages\n",
       "0  1977      $41            $41\n",
       "1  1978      $59            $59\n",
       "2  1979      $58            $58\n",
       "3  1980      $46            $46\n",
       "4  1981     $429           $429\n",
       "5  1982     $172           $172\n",
       "6  1983  $10,533        $10,533\n",
       "7  1984  $25,386        $25,386\n",
       "8  1985  $30,061        $30,061\n",
       "9  1986  $32,730        $32,730"
      ]
     },
     "execution_count": 7,
     "metadata": {},
     "output_type": "execute_result"
    }
   ],
   "source": [
    "df = pd.DataFrame(all_rows, columns = ['Date', 'SS_Wages', 'Medicare_Wages'])\n",
    "df.head(10)"
   ]
  },
  {
   "cell_type": "markdown",
   "id": "13b6030d",
   "metadata": {},
   "source": [
    "We can set the `Date` column as the index for the DataFrame. Notice also that the other two columns of Social Security Wages and Medicare Wages are strings with a dollar sign and commas separating the thousands. We can use regular expressions to get rid of the dollar signs and commas and convert the data from strings to integers."
   ]
  },
  {
   "cell_type": "code",
   "execution_count": 8,
   "id": "65b213fb",
   "metadata": {},
   "outputs": [
    {
     "data": {
      "text/html": [
       "<div>\n",
       "<style scoped>\n",
       "    .dataframe tbody tr th:only-of-type {\n",
       "        vertical-align: middle;\n",
       "    }\n",
       "\n",
       "    .dataframe tbody tr th {\n",
       "        vertical-align: top;\n",
       "    }\n",
       "\n",
       "    .dataframe thead th {\n",
       "        text-align: right;\n",
       "    }\n",
       "</style>\n",
       "<table border=\"1\" class=\"dataframe\">\n",
       "  <thead>\n",
       "    <tr style=\"text-align: right;\">\n",
       "      <th></th>\n",
       "      <th>SS_Wages</th>\n",
       "      <th>Medicare_Wages</th>\n",
       "    </tr>\n",
       "    <tr>\n",
       "      <th>Date</th>\n",
       "      <th></th>\n",
       "      <th></th>\n",
       "    </tr>\n",
       "  </thead>\n",
       "  <tbody>\n",
       "    <tr>\n",
       "      <th>1977</th>\n",
       "      <td>41</td>\n",
       "      <td>41</td>\n",
       "    </tr>\n",
       "    <tr>\n",
       "      <th>1978</th>\n",
       "      <td>59</td>\n",
       "      <td>59</td>\n",
       "    </tr>\n",
       "    <tr>\n",
       "      <th>1979</th>\n",
       "      <td>58</td>\n",
       "      <td>58</td>\n",
       "    </tr>\n",
       "    <tr>\n",
       "      <th>1980</th>\n",
       "      <td>46</td>\n",
       "      <td>46</td>\n",
       "    </tr>\n",
       "    <tr>\n",
       "      <th>1981</th>\n",
       "      <td>429</td>\n",
       "      <td>429</td>\n",
       "    </tr>\n",
       "  </tbody>\n",
       "</table>\n",
       "</div>"
      ],
      "text/plain": [
       "      SS_Wages  Medicare_Wages\n",
       "Date                          \n",
       "1977        41              41\n",
       "1978        59              59\n",
       "1979        58              58\n",
       "1980        46              46\n",
       "1981       429             429"
      ]
     },
     "execution_count": 8,
     "metadata": {},
     "output_type": "execute_result"
    }
   ],
   "source": [
    "df = df.set_index('Date')\n",
    "df.index.astype('int64')\n",
    "\n",
    "df = df.replace('[\\$,]', '', regex=True).astype(np.int64)\n",
    "df.head()\n",
    "\n",
    "# An alternative way of doing it is\n",
    "#df = df.apply(lambda x: x.str[1:].str.split(',').str.join('')).astype(np.int64)"
   ]
  },
  {
   "cell_type": "code",
   "execution_count": 9,
   "id": "a16c3866",
   "metadata": {},
   "outputs": [
    {
     "data": {
      "image/png": "[encoded data removed]",
      "text/plain": [
       "<Figure size 432x288 with 1 Axes>"
      ]
     },
     "metadata": {
      "needs_background": "light"
     },
     "output_type": "display_data"
    }
   ],
   "source": [
    "df.plot();"
   ]
  },
  {
   "cell_type": "markdown",
   "id": "26fc8370",
   "metadata": {},
   "source": [
    "Social Security computes benefits based on your highest 35 years of earnings. So the next step is to try to forecast future earnings until the stated retirement date, in order to estimate expected Social Security benefits. This is not an easy task. For some people, seniority comes along with higher earnings. For others, earnings are hump-shaped reaching a peak in middle age and declining in later years. "
   ]
  },
  {
   "cell_type": "code",
   "execution_count": null,
   "id": "95185f3a",
   "metadata": {},
   "outputs": [],
   "source": []
  },
  {
   "cell_type": "code",
   "execution_count": null,
   "id": "6ce9aa54",
   "metadata": {},
   "outputs": [],
   "source": []
  }
 ],
 "metadata": {
  "kernelspec": {
   "display_name": "Python 3 (ipykernel)",
   "language": "python",
   "name": "python3"
  },
  "language_info": {
   "codemirror_mode": {
    "name": "ipython",
    "version": 3
   },
   "file_extension": ".py",
   "mimetype": "text/x-python",
   "name": "python",
   "nbconvert_exporter": "python",
   "pygments_lexer": "ipython3",
   "version": "3.9.12"
  }
 },
 "nbformat": 4,
 "nbformat_minor": 5
}
